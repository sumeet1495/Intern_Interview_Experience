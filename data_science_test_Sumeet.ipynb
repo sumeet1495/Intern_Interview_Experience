{
 "cells": [
  {
   "cell_type": "markdown",
   "metadata": {
    "id": "QwPGV8o5YhID"
   },
   "source": [
    "# **Data Science Practical Test**\n",
    "## Instructions\n",
    "Analyse and use a machine learning model with the Amazon Kindle reviews data provided. You may decide what to do with the data as long as the following criterias are met:\n",
    "\n",
    "\n",
    "1. Define the aim of the project\n",
    "2. Use a machine learning model\n",
    "3. Assess the quality of the model with appropriate metric(s)\n",
    "4. Use any visualisation as appropriate\n",
    "5. Write succinct documentation\n",
    "6. Explain your thought process/justify your decisions\n",
    "7. All work, including any pre-processing, must be done in this notebook\n",
    "8. Must use Python\n",
    "\n",
    "\n",
    "## Rules\n",
    "* Email completed project to leo.mooney@partly.com, joana@partly.com and cc dan@partly.com\n",
    "* Any submission after the deadline will be discounted\n",
    "* Copying from any existing project is not allowed\n",
    "\n",
    "\n"
   ]
  },
  {
   "cell_type": "markdown",
   "metadata": {
    "id": "wFKAkedKcbid"
   },
   "source": [
    "# Data\n",
    "Download the data here: https://drive.google.com/file/d/1bXotNR-Rwvlim89LZkii62wS4HKm2ceX/view?usp=sharing\n",
    "\n",
    "The provided data is a sample of 982,619 reviews from the Amazon Kindle store.\n",
    "\n",
    "Columns:\n",
    "* `reviewerID` - ID of the reviewer, e.g. A2SUAM1J3GNN3B\n",
    "* `asin` - ID of the product, e.g. 0000013714\n",
    "* `reviewerName` - name of the reviewer\n",
    "* `helpful` - helpfulness rating of the review, format: [number of positive helpfulness ratings, total number of helpfulness ratings]. i.e. [2, 3] means 3 people rated the review, 2 people found it helpful and 1 found it unhelpful.\n",
    "* `reviewText` - text of the review\n",
    "* `overall` - rating of the product\n",
    "* `summary` - summary of the review\n",
    "* `unixReviewTime` - time of the review (unix time)\n",
    "* `reviewTime` - time of the review (raw)"
   ]
  },
  {
   "cell_type": "code",
   "execution_count": 1,
   "metadata": {},
   "outputs": [],
   "source": [
    "import pandas as pd\n",
    "import numpy as np\n",
    "from sklearn.model_selection import train_test_split\n",
    "import seaborn as sns\n",
    "import matplotlib.pyplot as plt\n",
    "import string\n",
    "import nltk\n",
    "from nltk.corpus import stopwords\n",
    "from nltk.stem import WordNetLemmatizer\n",
    "from sklearn.feature_extraction.text import TfidfVectorizer\n",
    "from sklearn.feature_selection import VarianceThreshold\n",
    "from sklearn.utils import resample\n",
    "from sklearn.metrics import classification_report, accuracy_score\n",
    "from sklearn.model_selection import RandomizedSearchCV\n",
    "from sklearn.metrics import classification_report, confusion_matrix\n",
    "from sklearn.pipeline import Pipeline\n",
    "from xgboost import XGBClassifier\n",
    "from sklearn.model_selection import RandomizedSearchCV"
   ]
  },
  {
   "cell_type": "code",
   "execution_count": 2,
   "metadata": {},
   "outputs": [],
   "source": [
    "# Load the dataset from CSV\n",
    "file_path = 'C:/Users/sumee/Downloads/review_Kindle_Store.csv' \n",
    "data = pd.read_csv(file_path)"
   ]
  },
  {
   "cell_type": "code",
   "execution_count": 3,
   "metadata": {},
   "outputs": [
    {
     "data": {
      "text/html": [
       "<div>\n",
       "<style scoped>\n",
       "    .dataframe tbody tr th:only-of-type {\n",
       "        vertical-align: middle;\n",
       "    }\n",
       "\n",
       "    .dataframe tbody tr th {\n",
       "        vertical-align: top;\n",
       "    }\n",
       "\n",
       "    .dataframe thead th {\n",
       "        text-align: right;\n",
       "    }\n",
       "</style>\n",
       "<table border=\"1\" class=\"dataframe\">\n",
       "  <thead>\n",
       "    <tr style=\"text-align: right;\">\n",
       "      <th></th>\n",
       "      <th>reviewerID</th>\n",
       "      <th>asin</th>\n",
       "      <th>reviewerName</th>\n",
       "      <th>helpful</th>\n",
       "      <th>reviewText</th>\n",
       "      <th>overall</th>\n",
       "      <th>summary</th>\n",
       "      <th>unixReviewTime</th>\n",
       "      <th>reviewTime</th>\n",
       "    </tr>\n",
       "  </thead>\n",
       "  <tbody>\n",
       "    <tr>\n",
       "      <th>0</th>\n",
       "      <td>A1F6404F1VG29J</td>\n",
       "      <td>B000F83SZQ</td>\n",
       "      <td>Avidreader</td>\n",
       "      <td>[0, 0]</td>\n",
       "      <td>I enjoy vintage books and movies so I enjoyed ...</td>\n",
       "      <td>5.0</td>\n",
       "      <td>Nice vintage story</td>\n",
       "      <td>1399248000</td>\n",
       "      <td>05 5, 2014</td>\n",
       "    </tr>\n",
       "    <tr>\n",
       "      <th>1</th>\n",
       "      <td>AN0N05A9LIJEQ</td>\n",
       "      <td>B000F83SZQ</td>\n",
       "      <td>critters</td>\n",
       "      <td>[2, 2]</td>\n",
       "      <td>This book is a reissue of an old one; the auth...</td>\n",
       "      <td>4.0</td>\n",
       "      <td>Different...</td>\n",
       "      <td>1388966400</td>\n",
       "      <td>01 6, 2014</td>\n",
       "    </tr>\n",
       "    <tr>\n",
       "      <th>2</th>\n",
       "      <td>A795DMNCJILA6</td>\n",
       "      <td>B000F83SZQ</td>\n",
       "      <td>dot</td>\n",
       "      <td>[2, 2]</td>\n",
       "      <td>This was a fairly interesting read.  It had ol...</td>\n",
       "      <td>4.0</td>\n",
       "      <td>Oldie</td>\n",
       "      <td>1396569600</td>\n",
       "      <td>04 4, 2014</td>\n",
       "    </tr>\n",
       "    <tr>\n",
       "      <th>3</th>\n",
       "      <td>A1FV0SX13TWVXQ</td>\n",
       "      <td>B000F83SZQ</td>\n",
       "      <td>Elaine H. Turley \"Montana Songbird\"</td>\n",
       "      <td>[1, 1]</td>\n",
       "      <td>I'd never read any of the Amy Brewster mysteri...</td>\n",
       "      <td>5.0</td>\n",
       "      <td>I really liked it.</td>\n",
       "      <td>1392768000</td>\n",
       "      <td>02 19, 2014</td>\n",
       "    </tr>\n",
       "    <tr>\n",
       "      <th>4</th>\n",
       "      <td>A3SPTOKDG7WBLN</td>\n",
       "      <td>B000F83SZQ</td>\n",
       "      <td>Father Dowling Fan</td>\n",
       "      <td>[0, 1]</td>\n",
       "      <td>If you like period pieces - clothing, lingo, y...</td>\n",
       "      <td>4.0</td>\n",
       "      <td>Period Mystery</td>\n",
       "      <td>1395187200</td>\n",
       "      <td>03 19, 2014</td>\n",
       "    </tr>\n",
       "  </tbody>\n",
       "</table>\n",
       "</div>"
      ],
      "text/plain": [
       "       reviewerID        asin                         reviewerName helpful  \\\n",
       "0  A1F6404F1VG29J  B000F83SZQ                           Avidreader  [0, 0]   \n",
       "1   AN0N05A9LIJEQ  B000F83SZQ                             critters  [2, 2]   \n",
       "2   A795DMNCJILA6  B000F83SZQ                                  dot  [2, 2]   \n",
       "3  A1FV0SX13TWVXQ  B000F83SZQ  Elaine H. Turley \"Montana Songbird\"  [1, 1]   \n",
       "4  A3SPTOKDG7WBLN  B000F83SZQ                   Father Dowling Fan  [0, 1]   \n",
       "\n",
       "                                          reviewText  overall  \\\n",
       "0  I enjoy vintage books and movies so I enjoyed ...      5.0   \n",
       "1  This book is a reissue of an old one; the auth...      4.0   \n",
       "2  This was a fairly interesting read.  It had ol...      4.0   \n",
       "3  I'd never read any of the Amy Brewster mysteri...      5.0   \n",
       "4  If you like period pieces - clothing, lingo, y...      4.0   \n",
       "\n",
       "              summary  unixReviewTime   reviewTime  \n",
       "0  Nice vintage story      1399248000   05 5, 2014  \n",
       "1        Different...      1388966400   01 6, 2014  \n",
       "2               Oldie      1396569600   04 4, 2014  \n",
       "3  I really liked it.      1392768000  02 19, 2014  \n",
       "4      Period Mystery      1395187200  03 19, 2014  "
      ]
     },
     "execution_count": 3,
     "metadata": {},
     "output_type": "execute_result"
    }
   ],
   "source": [
    "data.head()"
   ]
  },
  {
   "cell_type": "markdown",
   "metadata": {},
   "source": [
    "performing EDA "
   ]
  },
  {
   "cell_type": "code",
   "execution_count": 4,
   "metadata": {},
   "outputs": [
    {
     "name": "stdout",
     "output_type": "stream",
     "text": [
      "<class 'pandas.core.frame.DataFrame'>\n",
      "RangeIndex: 982619 entries, 0 to 982618\n",
      "Data columns (total 9 columns):\n",
      " #   Column          Non-Null Count   Dtype  \n",
      "---  ------          --------------   -----  \n",
      " 0   reviewerID      982619 non-null  object \n",
      " 1   asin            982619 non-null  object \n",
      " 2   reviewerName    978797 non-null  object \n",
      " 3   helpful         982619 non-null  object \n",
      " 4   reviewText      982597 non-null  object \n",
      " 5   overall         982619 non-null  float64\n",
      " 6   summary         982500 non-null  object \n",
      " 7   unixReviewTime  982619 non-null  int64  \n",
      " 8   reviewTime      982619 non-null  object \n",
      "dtypes: float64(1), int64(1), object(7)\n",
      "memory usage: 67.5+ MB\n"
     ]
    }
   ],
   "source": [
    "data.info()"
   ]
  },
  {
   "cell_type": "code",
   "execution_count": 5,
   "metadata": {},
   "outputs": [
    {
     "data": {
      "text/plain": [
       "reviewerID           0\n",
       "asin                 0\n",
       "reviewerName      3822\n",
       "helpful              0\n",
       "reviewText          22\n",
       "overall              0\n",
       "summary            119\n",
       "unixReviewTime       0\n",
       "reviewTime           0\n",
       "dtype: int64"
      ]
     },
     "execution_count": 5,
     "metadata": {},
     "output_type": "execute_result"
    }
   ],
   "source": [
    "## missing value \n",
    "data.isnull().sum()"
   ]
  },
  {
   "cell_type": "code",
   "execution_count": 6,
   "metadata": {},
   "outputs": [
    {
     "data": {
      "text/plain": [
       "(982619, 9)"
      ]
     },
     "execution_count": 6,
     "metadata": {},
     "output_type": "execute_result"
    }
   ],
   "source": [
    "data.shape"
   ]
  },
  {
   "cell_type": "code",
   "execution_count": 7,
   "metadata": {},
   "outputs": [],
   "source": [
    "# Converting object columns to categorical types columns\n",
    "cols = data.select_dtypes(include=['object']).columns\n",
    "for i in cols:\n",
    "    data[i] = data[i].astype('category')"
   ]
  },
  {
   "cell_type": "code",
   "execution_count": 8,
   "metadata": {},
   "outputs": [
    {
     "name": "stdout",
     "output_type": "stream",
     "text": [
      "Unique values in 'reviewerID': 68223\n",
      "Unique values in 'asin': 61934\n",
      "Unique values in 'reviewerName': 55476\n",
      "Unique values in 'helpful': 1494\n",
      "Unique values in 'reviewText': 982267\n",
      "Unique values in 'summary': 623239\n",
      "Unique values in 'reviewTime': 2117\n"
     ]
    }
   ],
   "source": [
    "# getting distinct counts for categorical columns\n",
    "for i in cols:\n",
    "    print(f\"Unique values in '{i}': {data[i].nunique()}\")"
   ]
  },
  {
   "cell_type": "code",
   "execution_count": 9,
   "metadata": {},
   "outputs": [],
   "source": [
    "# convert the unixReviewTime to datetime format\n",
    "data['review_date'] = pd.to_datetime(data['unixReviewTime'], unit='s')\n",
    "\n",
    "# extract year, month, and day of the week\n",
    "data['review_year'] = data['review_date'].dt.year\n",
    "data['review_month'] = data['review_date'].dt.month\n",
    "data['review_day_of_week'] = data['review_date'].dt.dayofweek  # Monday=0, Sunday=6"
   ]
  },
  {
   "cell_type": "code",
   "execution_count": 10,
   "metadata": {},
   "outputs": [
    {
     "data": {
      "text/html": [
       "<div>\n",
       "<style scoped>\n",
       "    .dataframe tbody tr th:only-of-type {\n",
       "        vertical-align: middle;\n",
       "    }\n",
       "\n",
       "    .dataframe tbody tr th {\n",
       "        vertical-align: top;\n",
       "    }\n",
       "\n",
       "    .dataframe thead th {\n",
       "        text-align: right;\n",
       "    }\n",
       "</style>\n",
       "<table border=\"1\" class=\"dataframe\">\n",
       "  <thead>\n",
       "    <tr style=\"text-align: right;\">\n",
       "      <th></th>\n",
       "      <th>reviewerID</th>\n",
       "      <th>asin</th>\n",
       "      <th>reviewerName</th>\n",
       "      <th>helpful</th>\n",
       "      <th>reviewText</th>\n",
       "      <th>overall</th>\n",
       "      <th>summary</th>\n",
       "      <th>unixReviewTime</th>\n",
       "      <th>reviewTime</th>\n",
       "      <th>review_date</th>\n",
       "      <th>review_year</th>\n",
       "      <th>review_month</th>\n",
       "      <th>review_day_of_week</th>\n",
       "    </tr>\n",
       "  </thead>\n",
       "  <tbody>\n",
       "    <tr>\n",
       "      <th>0</th>\n",
       "      <td>A1F6404F1VG29J</td>\n",
       "      <td>B000F83SZQ</td>\n",
       "      <td>Avidreader</td>\n",
       "      <td>[0, 0]</td>\n",
       "      <td>I enjoy vintage books and movies so I enjoyed ...</td>\n",
       "      <td>5.0</td>\n",
       "      <td>Nice vintage story</td>\n",
       "      <td>1399248000</td>\n",
       "      <td>05 5, 2014</td>\n",
       "      <td>2014-05-05</td>\n",
       "      <td>2014</td>\n",
       "      <td>5</td>\n",
       "      <td>0</td>\n",
       "    </tr>\n",
       "    <tr>\n",
       "      <th>1</th>\n",
       "      <td>AN0N05A9LIJEQ</td>\n",
       "      <td>B000F83SZQ</td>\n",
       "      <td>critters</td>\n",
       "      <td>[2, 2]</td>\n",
       "      <td>This book is a reissue of an old one; the auth...</td>\n",
       "      <td>4.0</td>\n",
       "      <td>Different...</td>\n",
       "      <td>1388966400</td>\n",
       "      <td>01 6, 2014</td>\n",
       "      <td>2014-01-06</td>\n",
       "      <td>2014</td>\n",
       "      <td>1</td>\n",
       "      <td>0</td>\n",
       "    </tr>\n",
       "    <tr>\n",
       "      <th>2</th>\n",
       "      <td>A795DMNCJILA6</td>\n",
       "      <td>B000F83SZQ</td>\n",
       "      <td>dot</td>\n",
       "      <td>[2, 2]</td>\n",
       "      <td>This was a fairly interesting read.  It had ol...</td>\n",
       "      <td>4.0</td>\n",
       "      <td>Oldie</td>\n",
       "      <td>1396569600</td>\n",
       "      <td>04 4, 2014</td>\n",
       "      <td>2014-04-04</td>\n",
       "      <td>2014</td>\n",
       "      <td>4</td>\n",
       "      <td>4</td>\n",
       "    </tr>\n",
       "    <tr>\n",
       "      <th>3</th>\n",
       "      <td>A1FV0SX13TWVXQ</td>\n",
       "      <td>B000F83SZQ</td>\n",
       "      <td>Elaine H. Turley \"Montana Songbird\"</td>\n",
       "      <td>[1, 1]</td>\n",
       "      <td>I'd never read any of the Amy Brewster mysteri...</td>\n",
       "      <td>5.0</td>\n",
       "      <td>I really liked it.</td>\n",
       "      <td>1392768000</td>\n",
       "      <td>02 19, 2014</td>\n",
       "      <td>2014-02-19</td>\n",
       "      <td>2014</td>\n",
       "      <td>2</td>\n",
       "      <td>2</td>\n",
       "    </tr>\n",
       "    <tr>\n",
       "      <th>4</th>\n",
       "      <td>A3SPTOKDG7WBLN</td>\n",
       "      <td>B000F83SZQ</td>\n",
       "      <td>Father Dowling Fan</td>\n",
       "      <td>[0, 1]</td>\n",
       "      <td>If you like period pieces - clothing, lingo, y...</td>\n",
       "      <td>4.0</td>\n",
       "      <td>Period Mystery</td>\n",
       "      <td>1395187200</td>\n",
       "      <td>03 19, 2014</td>\n",
       "      <td>2014-03-19</td>\n",
       "      <td>2014</td>\n",
       "      <td>3</td>\n",
       "      <td>2</td>\n",
       "    </tr>\n",
       "  </tbody>\n",
       "</table>\n",
       "</div>"
      ],
      "text/plain": [
       "       reviewerID        asin                         reviewerName helpful  \\\n",
       "0  A1F6404F1VG29J  B000F83SZQ                           Avidreader  [0, 0]   \n",
       "1   AN0N05A9LIJEQ  B000F83SZQ                             critters  [2, 2]   \n",
       "2   A795DMNCJILA6  B000F83SZQ                                  dot  [2, 2]   \n",
       "3  A1FV0SX13TWVXQ  B000F83SZQ  Elaine H. Turley \"Montana Songbird\"  [1, 1]   \n",
       "4  A3SPTOKDG7WBLN  B000F83SZQ                   Father Dowling Fan  [0, 1]   \n",
       "\n",
       "                                          reviewText  overall  \\\n",
       "0  I enjoy vintage books and movies so I enjoyed ...      5.0   \n",
       "1  This book is a reissue of an old one; the auth...      4.0   \n",
       "2  This was a fairly interesting read.  It had ol...      4.0   \n",
       "3  I'd never read any of the Amy Brewster mysteri...      5.0   \n",
       "4  If you like period pieces - clothing, lingo, y...      4.0   \n",
       "\n",
       "              summary  unixReviewTime   reviewTime review_date  review_year  \\\n",
       "0  Nice vintage story      1399248000   05 5, 2014  2014-05-05         2014   \n",
       "1        Different...      1388966400   01 6, 2014  2014-01-06         2014   \n",
       "2               Oldie      1396569600   04 4, 2014  2014-04-04         2014   \n",
       "3  I really liked it.      1392768000  02 19, 2014  2014-02-19         2014   \n",
       "4      Period Mystery      1395187200  03 19, 2014  2014-03-19         2014   \n",
       "\n",
       "   review_month  review_day_of_week  \n",
       "0             5                   0  \n",
       "1             1                   0  \n",
       "2             4                   4  \n",
       "3             2                   2  \n",
       "4             3                   2  "
      ]
     },
     "execution_count": 10,
     "metadata": {},
     "output_type": "execute_result"
    }
   ],
   "source": [
    "data.head()"
   ]
  },
  {
   "cell_type": "code",
   "execution_count": 11,
   "metadata": {},
   "outputs": [],
   "source": [
    "# the top 10 products based on review count\n",
    "top_products = data['asin'].value_counts().nlargest(10).reset_index()"
   ]
  },
  {
   "cell_type": "code",
   "execution_count": 12,
   "metadata": {},
   "outputs": [
    {
     "data": {
      "text/html": [
       "<div>\n",
       "<style scoped>\n",
       "    .dataframe tbody tr th:only-of-type {\n",
       "        vertical-align: middle;\n",
       "    }\n",
       "\n",
       "    .dataframe tbody tr th {\n",
       "        vertical-align: top;\n",
       "    }\n",
       "\n",
       "    .dataframe thead th {\n",
       "        text-align: right;\n",
       "    }\n",
       "</style>\n",
       "<table border=\"1\" class=\"dataframe\">\n",
       "  <thead>\n",
       "    <tr style=\"text-align: right;\">\n",
       "      <th></th>\n",
       "      <th>asin</th>\n",
       "      <th>count</th>\n",
       "    </tr>\n",
       "  </thead>\n",
       "  <tbody>\n",
       "    <tr>\n",
       "      <th>0</th>\n",
       "      <td>B006GWO5WK</td>\n",
       "      <td>1113</td>\n",
       "    </tr>\n",
       "    <tr>\n",
       "      <th>1</th>\n",
       "      <td>B00BTIDW4S</td>\n",
       "      <td>781</td>\n",
       "    </tr>\n",
       "    <tr>\n",
       "      <th>2</th>\n",
       "      <td>B00BT0J8ZS</td>\n",
       "      <td>516</td>\n",
       "    </tr>\n",
       "    <tr>\n",
       "      <th>3</th>\n",
       "      <td>B00JDYC5OI</td>\n",
       "      <td>502</td>\n",
       "    </tr>\n",
       "    <tr>\n",
       "      <th>4</th>\n",
       "      <td>B00H0V069M</td>\n",
       "      <td>481</td>\n",
       "    </tr>\n",
       "    <tr>\n",
       "      <th>5</th>\n",
       "      <td>B00BTIDXVU</td>\n",
       "      <td>454</td>\n",
       "    </tr>\n",
       "    <tr>\n",
       "      <th>6</th>\n",
       "      <td>B00BSX4U04</td>\n",
       "      <td>452</td>\n",
       "    </tr>\n",
       "    <tr>\n",
       "      <th>7</th>\n",
       "      <td>B00BTIDOO6</td>\n",
       "      <td>428</td>\n",
       "    </tr>\n",
       "    <tr>\n",
       "      <th>8</th>\n",
       "      <td>B007R5YDYA</td>\n",
       "      <td>422</td>\n",
       "    </tr>\n",
       "    <tr>\n",
       "      <th>9</th>\n",
       "      <td>B005DOK8NW</td>\n",
       "      <td>408</td>\n",
       "    </tr>\n",
       "  </tbody>\n",
       "</table>\n",
       "</div>"
      ],
      "text/plain": [
       "         asin  count\n",
       "0  B006GWO5WK   1113\n",
       "1  B00BTIDW4S    781\n",
       "2  B00BT0J8ZS    516\n",
       "3  B00JDYC5OI    502\n",
       "4  B00H0V069M    481\n",
       "5  B00BTIDXVU    454\n",
       "6  B00BSX4U04    452\n",
       "7  B00BTIDOO6    428\n",
       "8  B007R5YDYA    422\n",
       "9  B005DOK8NW    408"
      ]
     },
     "execution_count": 12,
     "metadata": {},
     "output_type": "execute_result"
    }
   ],
   "source": [
    "top_products"
   ]
  },
  {
   "cell_type": "code",
   "execution_count": 13,
   "metadata": {},
   "outputs": [],
   "source": [
    "top_products.columns = ['asin', 'review_count']"
   ]
  },
  {
   "cell_type": "code",
   "execution_count": 14,
   "metadata": {},
   "outputs": [
    {
     "data": {
      "text/plain": [
       "Index(['asin', 'review_count'], dtype='object')"
      ]
     },
     "execution_count": 14,
     "metadata": {},
     "output_type": "execute_result"
    }
   ],
   "source": [
    "top_products.columns"
   ]
  },
  {
   "cell_type": "code",
   "execution_count": 15,
   "metadata": {},
   "outputs": [
    {
     "data": {
      "image/png": "[encoded data removed]",
      "text/plain": [
       "<Figure size 1000x600 with 1 Axes>"
      ]
     },
     "metadata": {},
     "output_type": "display_data"
    }
   ],
   "source": [
    "# Plotting top 10 products based on review count\n",
    "plt.style.use('fast')\n",
    "plt.figure(figsize=(10, 6))\n",
    "plt.bar(top_products['asin'], top_products['review_count'], color='skyblue')\n",
    "plt.xticks(rotation=75)\n",
    "plt.xlabel('Product ASIN')\n",
    "plt.ylabel('Number of Reviews')\n",
    "plt.title('Top 10 Products Based on Number of Reviews')\n",
    "plt.show()"
   ]
  },
  {
   "cell_type": "code",
   "execution_count": 16,
   "metadata": {},
   "outputs": [
    {
     "data": {
      "image/png": "[encoded data removed]",
      "text/plain": [
       "<Figure size 1000x600 with 1 Axes>"
      ]
     },
     "metadata": {},
     "output_type": "display_data"
    }
   ],
   "source": [
    "# Group data by review year and get the count of reviews per year\n",
    "reviews_per_year = data['review_year'].value_counts().reset_index()\n",
    "reviews_per_year.columns = ['review_year', 'review_count']\n",
    "\n",
    "# Sorting the data by year\n",
    "reviews_per_year = reviews_per_year.sort_values('review_year')\n",
    "\n",
    "# Plotting the number of reviews per year\n",
    "plt.style.use('fast')\n",
    "plt.figure(figsize=(10, 6))\n",
    "plt.bar(reviews_per_year['review_year'], reviews_per_year['review_count'], color='lightgreen')\n",
    "plt.xticks(rotation=75)\n",
    "plt.xlabel('Year')\n",
    "plt.ylabel('Number of Reviews')\n",
    "plt.title('Number of Reviews Per Year')\n",
    "plt.show()"
   ]
  },
  {
   "cell_type": "code",
   "execution_count": 17,
   "metadata": {},
   "outputs": [
    {
     "data": {
      "text/html": [
       "<div>\n",
       "<style scoped>\n",
       "    .dataframe tbody tr th:only-of-type {\n",
       "        vertical-align: middle;\n",
       "    }\n",
       "\n",
       "    .dataframe tbody tr th {\n",
       "        vertical-align: top;\n",
       "    }\n",
       "\n",
       "    .dataframe thead th {\n",
       "        text-align: right;\n",
       "    }\n",
       "</style>\n",
       "<table border=\"1\" class=\"dataframe\">\n",
       "  <thead>\n",
       "    <tr style=\"text-align: right;\">\n",
       "      <th></th>\n",
       "      <th>review_year</th>\n",
       "      <th>review_count</th>\n",
       "    </tr>\n",
       "  </thead>\n",
       "  <tbody>\n",
       "    <tr>\n",
       "      <th>11</th>\n",
       "      <td>2000</td>\n",
       "      <td>8</td>\n",
       "    </tr>\n",
       "    <tr>\n",
       "      <th>13</th>\n",
       "      <td>2001</td>\n",
       "      <td>2</td>\n",
       "    </tr>\n",
       "    <tr>\n",
       "      <th>14</th>\n",
       "      <td>2002</td>\n",
       "      <td>1</td>\n",
       "    </tr>\n",
       "    <tr>\n",
       "      <th>12</th>\n",
       "      <td>2003</td>\n",
       "      <td>4</td>\n",
       "    </tr>\n",
       "    <tr>\n",
       "      <th>10</th>\n",
       "      <td>2004</td>\n",
       "      <td>10</td>\n",
       "    </tr>\n",
       "    <tr>\n",
       "      <th>9</th>\n",
       "      <td>2005</td>\n",
       "      <td>18</td>\n",
       "    </tr>\n",
       "    <tr>\n",
       "      <th>8</th>\n",
       "      <td>2006</td>\n",
       "      <td>23</td>\n",
       "    </tr>\n",
       "    <tr>\n",
       "      <th>7</th>\n",
       "      <td>2007</td>\n",
       "      <td>39</td>\n",
       "    </tr>\n",
       "    <tr>\n",
       "      <th>6</th>\n",
       "      <td>2008</td>\n",
       "      <td>191</td>\n",
       "    </tr>\n",
       "    <tr>\n",
       "      <th>5</th>\n",
       "      <td>2009</td>\n",
       "      <td>512</td>\n",
       "    </tr>\n",
       "    <tr>\n",
       "      <th>4</th>\n",
       "      <td>2010</td>\n",
       "      <td>3976</td>\n",
       "    </tr>\n",
       "    <tr>\n",
       "      <th>3</th>\n",
       "      <td>2011</td>\n",
       "      <td>26522</td>\n",
       "    </tr>\n",
       "    <tr>\n",
       "      <th>2</th>\n",
       "      <td>2012</td>\n",
       "      <td>120248</td>\n",
       "    </tr>\n",
       "    <tr>\n",
       "      <th>0</th>\n",
       "      <td>2013</td>\n",
       "      <td>420370</td>\n",
       "    </tr>\n",
       "    <tr>\n",
       "      <th>1</th>\n",
       "      <td>2014</td>\n",
       "      <td>410695</td>\n",
       "    </tr>\n",
       "  </tbody>\n",
       "</table>\n",
       "</div>"
      ],
      "text/plain": [
       "    review_year  review_count\n",
       "11         2000             8\n",
       "13         2001             2\n",
       "14         2002             1\n",
       "12         2003             4\n",
       "10         2004            10\n",
       "9          2005            18\n",
       "8          2006            23\n",
       "7          2007            39\n",
       "6          2008           191\n",
       "5          2009           512\n",
       "4          2010          3976\n",
       "3          2011         26522\n",
       "2          2012        120248\n",
       "0          2013        420370\n",
       "1          2014        410695"
      ]
     },
     "execution_count": 17,
     "metadata": {},
     "output_type": "execute_result"
    }
   ],
   "source": [
    "reviews_per_year #2013 has highest review"
   ]
  },
  {
   "cell_type": "code",
   "execution_count": 18,
   "metadata": {},
   "outputs": [
    {
     "data": {
      "text/plain": [
       "overall\n",
       "5.0    575264\n",
       "4.0    254013\n",
       "3.0     96194\n",
       "2.0     34130\n",
       "1.0     23018\n",
       "Name: count, dtype: int64"
      ]
     },
     "execution_count": 18,
     "metadata": {},
     "output_type": "execute_result"
    }
   ],
   "source": [
    "#checking target variable \n",
    "data.overall.value_counts()"
   ]
  },
  {
   "cell_type": "code",
   "execution_count": 19,
   "metadata": {
    "scrolled": true
   },
   "outputs": [
    {
     "data": {
      "image/png": "[encoded data removed]",
      "text/plain": [
       "<Figure size 1000x600 with 1 Axes>"
      ]
     },
     "metadata": {},
     "output_type": "display_data"
    }
   ],
   "source": [
    "# Group data by overall ratings and get the count of each rating\n",
    "rating_counts = data['overall'].value_counts().reset_index()\n",
    "rating_counts.columns = ['rating', 'count']\n",
    "\n",
    "# Sorting the data by ratings\n",
    "rating_counts = rating_counts.sort_values('rating')\n",
    "\n",
    "# Plotting the ratings and their counts\n",
    "plt.style.use('fast')\n",
    "plt.figure(figsize=(10, 6))\n",
    "plt.bar(rating_counts['rating'], rating_counts['count'], color='lightcoral')\n",
    "plt.xticks(rotation=75)\n",
    "plt.xlabel('Overall Ratings')\n",
    "plt.ylabel('Number of Reviews')\n",
    "plt.title('Distribution of Overall Ratings')\n",
    "plt.show()"
   ]
  },
  {
   "cell_type": "markdown",
   "metadata": {},
   "source": [
    "This project aims to create a model that can correctly classify customer reviews(positive, neutral and negative) into the sentiment categories i have defined. The goal is to get good accuracy while keeping the model efficient which is achieved with certain settings (hyperparameters), model should generalize on unseen data using boosting method"
   ]
  },
  {
   "cell_type": "code",
   "execution_count": 20,
   "metadata": {},
   "outputs": [
    {
     "name": "stderr",
     "output_type": "stream",
     "text": [
      "[nltk_data] Downloading package stopwords to\n",
      "[nltk_data]     C:\\Users\\sumee\\AppData\\Roaming\\nltk_data...\n",
      "[nltk_data]   Package stopwords is already up-to-date!\n",
      "[nltk_data] Downloading package wordnet to\n",
      "[nltk_data]     C:\\Users\\sumee\\AppData\\Roaming\\nltk_data...\n",
      "[nltk_data]   Package wordnet is already up-to-date!\n"
     ]
    },
    {
     "name": "stdout",
     "output_type": "stream",
     "text": [
      "                                          reviewText  \\\n",
      "0  I enjoy vintage books and movies so I enjoyed ...   \n",
      "1  This book is a reissue of an old one; the auth...   \n",
      "2  This was a fairly interesting read.  It had ol...   \n",
      "3  I'd never read any of the Amy Brewster mysteri...   \n",
      "4  If you like period pieces - clothing, lingo, y...   \n",
      "\n",
      "                                  cleaned_reviewText  \n",
      "0  enjoy vintage book movies enjoy read book plot...  \n",
      "1  book reissue old one author bear era say nero ...  \n",
      "2  fairly interest read old style terminologyi gl...  \n",
      "3  id never read amy brewster mysteries one reall...  \n",
      "4  like period piece clothe lingo enjoy mystery a...  \n"
     ]
    }
   ],
   "source": [
    "\n",
    "\n",
    "# Download necessary NLTK resources\n",
    "nltk.download('stopwords')\n",
    "nltk.download('wordnet')\n",
    "\n",
    "\n",
    "# Initialize the Lemmatizer and stopwords\n",
    "lemmatizer = WordNetLemmatizer()\n",
    "stop_words = set(stopwords.words('english'))\n",
    "\n",
    "# Function to clean the text\n",
    "def preprocess_text(text):\n",
    "    # Removing punctuation\n",
    "    text = text.translate(str.maketrans('', '', string.punctuation))\n",
    "    \n",
    "    # Removing non-alphabetical characters\n",
    "    text = ' '.join(word for word in text.split() if word.isalpha())\n",
    "    \n",
    "    # Converting to lowercase\n",
    "    text = text.lower()\n",
    "    \n",
    "    # Remove stopwords\n",
    "    text = ' '.join(word for word in text.split() if word not in stop_words)\n",
    "    \n",
    "    # Lemmatize the words\n",
    "    text = ' '.join(lemmatizer.lemmatize(word, pos='v') for word in text.split())\n",
    "    \n",
    "    return text\n",
    "\n",
    "# Apply the preprocessing function to the reviewText column\n",
    "data['cleaned_reviewText'] = data['reviewText'].apply(preprocess_text)\n",
    "\n",
    "# Display the cleaned text\n",
    "print(data[['reviewText', 'cleaned_reviewText']].head())\n",
    "\n"
   ]
  },
  {
   "cell_type": "code",
   "execution_count": 21,
   "metadata": {},
   "outputs": [
    {
     "data": {
      "text/plain": [
       "Index(['reviewerID', 'asin', 'reviewerName', 'helpful', 'reviewText',\n",
       "       'overall', 'summary', 'unixReviewTime', 'reviewTime', 'review_date',\n",
       "       'review_year', 'review_month', 'review_day_of_week',\n",
       "       'cleaned_reviewText'],\n",
       "      dtype='object')"
      ]
     },
     "execution_count": 21,
     "metadata": {},
     "output_type": "execute_result"
    }
   ],
   "source": [
    "data.columns"
   ]
  },
  {
   "cell_type": "code",
   "execution_count": 22,
   "metadata": {},
   "outputs": [],
   "source": [
    "reviews = data[['cleaned_reviewText', 'overall']]"
   ]
  },
  {
   "cell_type": "code",
   "execution_count": 23,
   "metadata": {},
   "outputs": [
    {
     "data": {
      "text/html": [
       "<div>\n",
       "<style scoped>\n",
       "    .dataframe tbody tr th:only-of-type {\n",
       "        vertical-align: middle;\n",
       "    }\n",
       "\n",
       "    .dataframe tbody tr th {\n",
       "        vertical-align: top;\n",
       "    }\n",
       "\n",
       "    .dataframe thead th {\n",
       "        text-align: right;\n",
       "    }\n",
       "</style>\n",
       "<table border=\"1\" class=\"dataframe\">\n",
       "  <thead>\n",
       "    <tr style=\"text-align: right;\">\n",
       "      <th></th>\n",
       "      <th>cleaned_reviewText</th>\n",
       "      <th>overall</th>\n",
       "    </tr>\n",
       "  </thead>\n",
       "  <tbody>\n",
       "    <tr>\n",
       "      <th>0</th>\n",
       "      <td>enjoy vintage book movies enjoy read book plot...</td>\n",
       "      <td>5.0</td>\n",
       "    </tr>\n",
       "    <tr>\n",
       "      <th>1</th>\n",
       "      <td>book reissue old one author bear era say nero ...</td>\n",
       "      <td>4.0</td>\n",
       "    </tr>\n",
       "    <tr>\n",
       "      <th>2</th>\n",
       "      <td>fairly interest read old style terminologyi gl...</td>\n",
       "      <td>4.0</td>\n",
       "    </tr>\n",
       "    <tr>\n",
       "      <th>3</th>\n",
       "      <td>id never read amy brewster mysteries one reall...</td>\n",
       "      <td>5.0</td>\n",
       "    </tr>\n",
       "    <tr>\n",
       "      <th>4</th>\n",
       "      <td>like period piece clothe lingo enjoy mystery a...</td>\n",
       "      <td>4.0</td>\n",
       "    </tr>\n",
       "  </tbody>\n",
       "</table>\n",
       "</div>"
      ],
      "text/plain": [
       "                                  cleaned_reviewText  overall\n",
       "0  enjoy vintage book movies enjoy read book plot...      5.0\n",
       "1  book reissue old one author bear era say nero ...      4.0\n",
       "2  fairly interest read old style terminologyi gl...      4.0\n",
       "3  id never read amy brewster mysteries one reall...      5.0\n",
       "4  like period piece clothe lingo enjoy mystery a...      4.0"
      ]
     },
     "execution_count": 23,
     "metadata": {},
     "output_type": "execute_result"
    }
   ],
   "source": [
    "reviews.head()"
   ]
  },
  {
   "cell_type": "code",
   "execution_count": 24,
   "metadata": {},
   "outputs": [
    {
     "name": "stderr",
     "output_type": "stream",
     "text": [
      "C:\\Users\\sumee\\AppData\\Local\\Temp\\ipykernel_3564\\3449866022.py:11: SettingWithCopyWarning: \n",
      "A value is trying to be set on a copy of a slice from a DataFrame.\n",
      "Try using .loc[row_indexer,col_indexer] = value instead\n",
      "\n",
      "See the caveats in the documentation: https://pandas.pydata.org/pandas-docs/stable/user_guide/indexing.html#returning-a-view-versus-a-copy\n",
      "  reviews['sentiment'] = reviews['overall'].apply(label_sentiment)\n"
     ]
    },
    {
     "data": {
      "image/png": "[encoded data removed]",
      "text/plain": [
       "<Figure size 800x600 with 1 Axes>"
      ]
     },
     "metadata": {},
     "output_type": "display_data"
    }
   ],
   "source": [
    "\n",
    "# sentiment labeling function for three groups\n",
    "def label_sentiment(rating):\n",
    "    if rating in [4, 5]:\n",
    "        return 2  # Positive sentiment\n",
    "    elif rating == 3:\n",
    "        return 1  # Neutral sentiment\n",
    "    else:\n",
    "        return 0  # Negative sentiment\n",
    "\n",
    "# Apply the sentiment labeling function\n",
    "reviews['sentiment'] = reviews['overall'].apply(label_sentiment)\n",
    "\n",
    "# Get the count of each sentiment category\n",
    "sentiment_counts = reviews['sentiment'].value_counts()\n",
    "\n",
    "# Plotting with plt only\n",
    "plt.figure(figsize=(8, 6))\n",
    "plt.bar(sentiment_counts.index, sentiment_counts.values, color=['red', 'gray', 'green'])\n",
    "\n",
    "# Labeling the axes and setting the title\n",
    "plt.xlabel('Sentiment')\n",
    "plt.ylabel('Number of Reviews')\n",
    "plt.title('Distribution of Sentiment Labels')\n",
    "\n",
    "# Customizing the x-tick labels\n",
    "plt.xticks(ticks=[0, 1, 2], labels=['Negative', 'Neutral', 'Positive'])\n",
    "\n",
    "# Display the plot\n",
    "plt.show()\n"
   ]
  },
  {
   "cell_type": "code",
   "execution_count": 25,
   "metadata": {},
   "outputs": [
    {
     "data": {
      "text/html": [
       "<div>\n",
       "<style scoped>\n",
       "    .dataframe tbody tr th:only-of-type {\n",
       "        vertical-align: middle;\n",
       "    }\n",
       "\n",
       "    .dataframe tbody tr th {\n",
       "        vertical-align: top;\n",
       "    }\n",
       "\n",
       "    .dataframe thead th {\n",
       "        text-align: right;\n",
       "    }\n",
       "</style>\n",
       "<table border=\"1\" class=\"dataframe\">\n",
       "  <thead>\n",
       "    <tr style=\"text-align: right;\">\n",
       "      <th></th>\n",
       "      <th>cleaned_reviewText</th>\n",
       "      <th>overall</th>\n",
       "      <th>sentiment</th>\n",
       "    </tr>\n",
       "  </thead>\n",
       "  <tbody>\n",
       "    <tr>\n",
       "      <th>0</th>\n",
       "      <td>enjoy vintage book movies enjoy read book plot...</td>\n",
       "      <td>5.0</td>\n",
       "      <td>2</td>\n",
       "    </tr>\n",
       "    <tr>\n",
       "      <th>1</th>\n",
       "      <td>book reissue old one author bear era say nero ...</td>\n",
       "      <td>4.0</td>\n",
       "      <td>2</td>\n",
       "    </tr>\n",
       "    <tr>\n",
       "      <th>2</th>\n",
       "      <td>fairly interest read old style terminologyi gl...</td>\n",
       "      <td>4.0</td>\n",
       "      <td>2</td>\n",
       "    </tr>\n",
       "    <tr>\n",
       "      <th>3</th>\n",
       "      <td>id never read amy brewster mysteries one reall...</td>\n",
       "      <td>5.0</td>\n",
       "      <td>2</td>\n",
       "    </tr>\n",
       "    <tr>\n",
       "      <th>4</th>\n",
       "      <td>like period piece clothe lingo enjoy mystery a...</td>\n",
       "      <td>4.0</td>\n",
       "      <td>2</td>\n",
       "    </tr>\n",
       "  </tbody>\n",
       "</table>\n",
       "</div>"
      ],
      "text/plain": [
       "                                  cleaned_reviewText  overall  sentiment\n",
       "0  enjoy vintage book movies enjoy read book plot...      5.0          2\n",
       "1  book reissue old one author bear era say nero ...      4.0          2\n",
       "2  fairly interest read old style terminologyi gl...      4.0          2\n",
       "3  id never read amy brewster mysteries one reall...      5.0          2\n",
       "4  like period piece clothe lingo enjoy mystery a...      4.0          2"
      ]
     },
     "execution_count": 25,
     "metadata": {},
     "output_type": "execute_result"
    }
   ],
   "source": [
    "reviews.head()"
   ]
  },
  {
   "cell_type": "code",
   "execution_count": 26,
   "metadata": {
    "scrolled": true
   },
   "outputs": [],
   "source": [
    "reviews = reviews.dropna(subset=['cleaned_reviewText'])"
   ]
  },
  {
   "cell_type": "code",
   "execution_count": 27,
   "metadata": {},
   "outputs": [
    {
     "data": {
      "text/plain": [
       "overall\n",
       "5.0    575246\n",
       "4.0    254010\n",
       "3.0     96193\n",
       "2.0     34130\n",
       "1.0     23018\n",
       "Name: count, dtype: int64"
      ]
     },
     "execution_count": 27,
     "metadata": {},
     "output_type": "execute_result"
    }
   ],
   "source": [
    "reviews['overall'].value_counts()"
   ]
  },
  {
   "cell_type": "code",
   "execution_count": 28,
   "metadata": {},
   "outputs": [
    {
     "data": {
      "text/plain": [
       "sentiment\n",
       "2    829256\n",
       "1     96193\n",
       "0     57148\n",
       "Name: count, dtype: int64"
      ]
     },
     "execution_count": 28,
     "metadata": {},
     "output_type": "execute_result"
    }
   ],
   "source": [
    "reviews['sentiment'].value_counts()"
   ]
  },
  {
   "cell_type": "code",
   "execution_count": 29,
   "metadata": {
    "scrolled": true
   },
   "outputs": [],
   "source": [
    "\n",
    "\n",
    "# Separate the classes for class balancing \n",
    "class_2 = reviews[reviews['sentiment'] == 2]\n",
    "class_1 = reviews[reviews['sentiment'] == 1]\n",
    "class_0 = reviews[reviews['sentiment'] == 0]\n",
    "\n",
    "# Downsample class 2 and class 1 to matches class 0\n",
    "class_2_downsampled = resample(class_2, replace=False, n_samples=len(class_0), random_state=42) \n",
    "class_1_downsampled = resample(class_1, replace=False, n_samples=len(class_0), random_state=42)\n",
    "\n",
    "# Combine all classes into one balanced DataFrame\n",
    "balanced_reviews = pd.concat([class_2_downsampled, class_1_downsampled, class_0])\n",
    "\n"
   ]
  },
  {
   "cell_type": "code",
   "execution_count": 30,
   "metadata": {},
   "outputs": [
    {
     "data": {
      "text/html": [
       "<div>\n",
       "<style scoped>\n",
       "    .dataframe tbody tr th:only-of-type {\n",
       "        vertical-align: middle;\n",
       "    }\n",
       "\n",
       "    .dataframe tbody tr th {\n",
       "        vertical-align: top;\n",
       "    }\n",
       "\n",
       "    .dataframe thead th {\n",
       "        text-align: right;\n",
       "    }\n",
       "</style>\n",
       "<table border=\"1\" class=\"dataframe\">\n",
       "  <thead>\n",
       "    <tr style=\"text-align: right;\">\n",
       "      <th></th>\n",
       "      <th>cleaned_reviewText</th>\n",
       "      <th>overall</th>\n",
       "      <th>sentiment</th>\n",
       "    </tr>\n",
       "  </thead>\n",
       "  <tbody>\n",
       "    <tr>\n",
       "      <th>908685</th>\n",
       "      <td>diva still young heart keep let eddie sweet ta...</td>\n",
       "      <td>5.0</td>\n",
       "      <td>2</td>\n",
       "    </tr>\n",
       "    <tr>\n",
       "      <th>340066</th>\n",
       "      <td>love read good action romance adore stories se...</td>\n",
       "      <td>5.0</td>\n",
       "      <td>2</td>\n",
       "    </tr>\n",
       "    <tr>\n",
       "      <th>772164</th>\n",
       "      <td>quite long time since love series much actuall...</td>\n",
       "      <td>5.0</td>\n",
       "      <td>2</td>\n",
       "    </tr>\n",
       "    <tr>\n",
       "      <th>893333</th>\n",
       "      <td>receive book exchange honest reviewi huge fan ...</td>\n",
       "      <td>4.0</td>\n",
       "      <td>2</td>\n",
       "    </tr>\n",
       "    <tr>\n",
       "      <th>26080</th>\n",
       "      <td>great book well write couldnt put cant wait se...</td>\n",
       "      <td>5.0</td>\n",
       "      <td>2</td>\n",
       "    </tr>\n",
       "  </tbody>\n",
       "</table>\n",
       "</div>"
      ],
      "text/plain": [
       "                                       cleaned_reviewText  overall  sentiment\n",
       "908685  diva still young heart keep let eddie sweet ta...      5.0          2\n",
       "340066  love read good action romance adore stories se...      5.0          2\n",
       "772164  quite long time since love series much actuall...      5.0          2\n",
       "893333  receive book exchange honest reviewi huge fan ...      4.0          2\n",
       "26080   great book well write couldnt put cant wait se...      5.0          2"
      ]
     },
     "execution_count": 30,
     "metadata": {},
     "output_type": "execute_result"
    }
   ],
   "source": [
    "balanced_reviews.head()"
   ]
  },
  {
   "cell_type": "code",
   "execution_count": 31,
   "metadata": {},
   "outputs": [],
   "source": [
    "# Define the feature (x) and target (y) variables\n",
    "x = balanced_reviews['cleaned_reviewText']  \n",
    "y = balanced_reviews['sentiment']"
   ]
  },
  {
   "cell_type": "code",
   "execution_count": 32,
   "metadata": {},
   "outputs": [
    {
     "data": {
      "text/plain": [
       "(57148, 3)"
      ]
     },
     "execution_count": 32,
     "metadata": {},
     "output_type": "execute_result"
    }
   ],
   "source": [
    "class_1_downsampled.shape"
   ]
  },
  {
   "cell_type": "code",
   "execution_count": 33,
   "metadata": {},
   "outputs": [
    {
     "data": {
      "text/html": [
       "<div>\n",
       "<style scoped>\n",
       "    .dataframe tbody tr th:only-of-type {\n",
       "        vertical-align: middle;\n",
       "    }\n",
       "\n",
       "    .dataframe tbody tr th {\n",
       "        vertical-align: top;\n",
       "    }\n",
       "\n",
       "    .dataframe thead th {\n",
       "        text-align: right;\n",
       "    }\n",
       "</style>\n",
       "<table border=\"1\" class=\"dataframe\">\n",
       "  <thead>\n",
       "    <tr style=\"text-align: right;\">\n",
       "      <th></th>\n",
       "      <th>cleaned_reviewText</th>\n",
       "      <th>overall</th>\n",
       "      <th>sentiment</th>\n",
       "    </tr>\n",
       "  </thead>\n",
       "  <tbody>\n",
       "    <tr>\n",
       "      <th>908685</th>\n",
       "      <td>diva still young heart keep let eddie sweet ta...</td>\n",
       "      <td>5.0</td>\n",
       "      <td>2</td>\n",
       "    </tr>\n",
       "    <tr>\n",
       "      <th>340066</th>\n",
       "      <td>love read good action romance adore stories se...</td>\n",
       "      <td>5.0</td>\n",
       "      <td>2</td>\n",
       "    </tr>\n",
       "    <tr>\n",
       "      <th>772164</th>\n",
       "      <td>quite long time since love series much actuall...</td>\n",
       "      <td>5.0</td>\n",
       "      <td>2</td>\n",
       "    </tr>\n",
       "    <tr>\n",
       "      <th>893333</th>\n",
       "      <td>receive book exchange honest reviewi huge fan ...</td>\n",
       "      <td>4.0</td>\n",
       "      <td>2</td>\n",
       "    </tr>\n",
       "    <tr>\n",
       "      <th>26080</th>\n",
       "      <td>great book well write couldnt put cant wait se...</td>\n",
       "      <td>5.0</td>\n",
       "      <td>2</td>\n",
       "    </tr>\n",
       "  </tbody>\n",
       "</table>\n",
       "</div>"
      ],
      "text/plain": [
       "                                       cleaned_reviewText  overall  sentiment\n",
       "908685  diva still young heart keep let eddie sweet ta...      5.0          2\n",
       "340066  love read good action romance adore stories se...      5.0          2\n",
       "772164  quite long time since love series much actuall...      5.0          2\n",
       "893333  receive book exchange honest reviewi huge fan ...      4.0          2\n",
       "26080   great book well write couldnt put cant wait se...      5.0          2"
      ]
     },
     "execution_count": 33,
     "metadata": {},
     "output_type": "execute_result"
    }
   ],
   "source": [
    "class_2_downsampled.head(5)"
   ]
  },
  {
   "cell_type": "code",
   "execution_count": 34,
   "metadata": {},
   "outputs": [
    {
     "data": {
      "text/plain": [
       "(57148, 3)"
      ]
     },
     "execution_count": 34,
     "metadata": {},
     "output_type": "execute_result"
    }
   ],
   "source": [
    "class_0.shape"
   ]
  },
  {
   "cell_type": "code",
   "execution_count": 35,
   "metadata": {
    "scrolled": true
   },
   "outputs": [],
   "source": [
    "# slitting the dataset into training and testing sets\n",
    "x_train, x_test, y_train, y_test = train_test_split(x, y, test_size=0.3, random_state=42, stratify=y)\n"
   ]
  },
  {
   "cell_type": "code",
   "execution_count": 36,
   "metadata": {},
   "outputs": [
    {
     "name": "stdout",
     "output_type": "stream",
     "text": [
      "Best Parameters: {'tfidf__min_df': 0.001, 'tfidf__max_features': 20000, 'clf__n_estimators': 100, 'clf__max_depth': 7}\n"
     ]
    }
   ],
   "source": [
    "\n",
    "\n",
    "# Define the pipeline\n",
    "pipeline = Pipeline([\n",
    "    ('tfidf', TfidfVectorizer()),\n",
    "    ('clf', XGBClassifier())\n",
    "])\n",
    "\n",
    "# Define parameter distributions for the search\n",
    "param_distributions = {\n",
    "    'tfidf__min_df': [0.001, 0.005],\n",
    "    'tfidf__max_features': [5000, 10000, 15000, 20000],\n",
    "    'clf__n_estimators': [50, 100, 150],\n",
    "    'clf__max_depth': [3, 5, 7],\n",
    "}\n",
    "\n",
    "# Initialize RandomizedSearchCV\n",
    "random_search = RandomizedSearchCV(pipeline, param_distributions, n_iter=5, cv=3, scoring='accuracy', random_state=42, n_jobs=-1)\n",
    "\n",
    "# Fit the search to the data\n",
    "random_search.fit(x_train, y_train)\n",
    "\n",
    "# Display the best parameters\n",
    "print(\"Best Parameters:\", random_search.best_params_)\n"
   ]
  },
  {
   "cell_type": "code",
   "execution_count": 37,
   "metadata": {},
   "outputs": [
    {
     "data": {
      "image/png": "[encoded data removed]",
      "text/plain": [
       "<Figure size 800x600 with 2 Axes>"
      ]
     },
     "metadata": {},
     "output_type": "display_data"
    },
    {
     "name": "stdout",
     "output_type": "stream",
     "text": [
      "Training Accuracy: 0.7773602199816682\n",
      "Test Accuracy: 0.6824279659369289\n",
      "Classification Report:\n",
      "               precision    recall  f1-score   support\n",
      "\n",
      "           0       0.70      0.72      0.71     17144\n",
      "           1       0.60      0.57      0.58     17145\n",
      "           2       0.75      0.76      0.75     17145\n",
      "\n",
      "    accuracy                           0.68     51434\n",
      "   macro avg       0.68      0.68      0.68     51434\n",
      "weighted avg       0.68      0.68      0.68     51434\n",
      "\n"
     ]
    }
   ],
   "source": [
    "# predicting on the training and test data\n",
    "best_model = random_search.best_estimator_\n",
    "y_train_pred = best_model.predict(x_train)\n",
    "y_test_pred = best_model.predict(x_test)\n",
    "\n",
    "# calculate accuracy\n",
    "train_accuracy = accuracy_score(y_train, y_train_pred)\n",
    "test_accuracy = accuracy_score(y_test, y_test_pred)\n",
    "\n",
    "# Confusion matrix for test data\n",
    "conf_matrix = confusion_matrix(y_test, y_test_pred)\n",
    "\n",
    "# Plotting the confusion matrix\n",
    "plt.figure(figsize=(8, 6))\n",
    "sns.heatmap(conf_matrix, annot=True, fmt='d', cmap='Blues')\n",
    "plt.xlabel('Predicted')\n",
    "plt.ylabel('Actual')\n",
    "plt.title('Confusion Matrix')\n",
    "plt.show()\n",
    "\n",
    "# Display accuracy and classification report\n",
    "print(\"Training Accuracy:\", train_accuracy)\n",
    "print(\"Test Accuracy:\", test_accuracy)\n",
    "print(\"Classification Report:\\n\", classification_report(y_test, y_test_pred))"
   ]
  },
  {
   "cell_type": "code",
   "execution_count": 38,
   "metadata": {},
   "outputs": [],
   "source": [
    "# Vectorize the text using TfidfVectorizer with specified parameters\n",
    "tfidf = TfidfVectorizer(min_df=0.001, max_features=20000)\n",
    "X_train_tfidf = tfidf.fit_transform(x_train)\n",
    "X_test_tfidf = tfidf.transform(x_test)"
   ]
  },
  {
   "cell_type": "code",
   "execution_count": 41,
   "metadata": {},
   "outputs": [],
   "source": [
    "#  XGBoost model with the above specified parameters\n",
    "from sklearn.model_selection import  cross_val_score\n",
    "xgb_model = XGBClassifier(n_estimators=100, max_depth=7, tree_method='hist', random_state=42)\n",
    "\n",
    "# performing 10-fold instead 5  cross-validation on the training set for accuracy\n",
    "cv_scores = cross_val_score(xgb_model, X_train_tfidf, y_train, cv=10, scoring='accuracy')\n",
    "\n",
    "# Train the model on the entire training data after cross-validation\n",
    "xgb_model.fit(X_train_tfidf, y_train)\n",
    "\n",
    "# Predict on training and test data\n",
    "y_train_pred = xgb_model.predict(X_train_tfidf)\n",
    "y_test_pred = xgb_model.predict(X_test_tfidf)\n",
    "\n",
    "# Calculate accuracy\n",
    "train_accuracy = accuracy_score(y_train, y_train_pred)\n",
    "test_accuracy = accuracy_score(y_test, y_test_pred)\n",
    "\n",
    "# Confusion matrix for test data\n",
    "conf_matrix = confusion_matrix(y_test, y_test_pred)"
   ]
  },
  {
   "cell_type": "code",
   "execution_count": 42,
   "metadata": {
    "scrolled": true
   },
   "outputs": [
    {
     "data": {
      "image/png": "[encoded data removed]",
      "text/plain": [
       "<Figure size 800x600 with 2 Axes>"
      ]
     },
     "metadata": {},
     "output_type": "display_data"
    },
    {
     "name": "stdout",
     "output_type": "stream",
     "text": [
      "Training Accuracy: 0.7773602199816682\n",
      "Test Accuracy: 0.6824279659369289\n",
      "10-Fold Cross-Validation Mean Accuracy: 0.6801599866677777\n",
      "Classification Report:\n",
      "               precision    recall  f1-score   support\n",
      "\n",
      "           0       0.70      0.72      0.71     17144\n",
      "           1       0.60      0.57      0.58     17145\n",
      "           2       0.75      0.76      0.75     17145\n",
      "\n",
      "    accuracy                           0.68     51434\n",
      "   macro avg       0.68      0.68      0.68     51434\n",
      "weighted avg       0.68      0.68      0.68     51434\n",
      "\n"
     ]
    }
   ],
   "source": [
    "# plotting the confusion matrix\n",
    "plt.figure(figsize=(8, 6))\n",
    "sns.heatmap(conf_matrix, annot=True, fmt='d', cmap='Blues')\n",
    "plt.xlabel('Predicted')\n",
    "plt.ylabel('Actual')\n",
    "plt.title('Confusion Matrix')\n",
    "plt.show()\n",
    "\n",
    "# Displaying results\n",
    "print(\"Training Accuracy:\", train_accuracy)\n",
    "print(\"Test Accuracy:\", test_accuracy)\n",
    "print(\"10-Fold Cross-Validation Mean Accuracy:\", cv_scores.mean())\n",
    "print(\"Classification Report:\\n\", classification_report(y_test, y_test_pred))"
   ]
  },
  {
   "cell_type": "code",
   "execution_count": null,
   "metadata": {},
   "outputs": [],
   "source": [
    "# Define the XGBoost model not able to execute due to my system low computational power or may be need to re adjust my down sampling technique\n",
    "\n",
    "##trying to work on this \n",
    "xgb_model = XGBClassifier(tree_method='hist', random_state=42)\n",
    "\n",
    "# Define hyperparameter grid for tuning\n",
    "param_grid = {\n",
    "    'n_estimators': [100, 200, 500, 1000],\n",
    "    'max_depth': [3, 5, 7, 10],\n",
    "    'learning_rate': [0.01, 0.05, 0.1],\n",
    "    'subsample': [0.6, 0.8, 1.0],\n",
    "    'colsample_bytree': [0.6, 0.8, 1.0],\n",
    "    'gamma': [0, 0.1, 0.3]\n",
    "}\n",
    "\n",
    "# Perform Randomized Search CV\n",
    "xgb_cv = RandomizedSearchCV(xgb_model, param_grid, n_iter=10, cv=5, scoring='accuracy', random_state=42, n_jobs=-1)\n",
    "xgb_cv.fit(X_train_tfidf, y_train)\n",
    "\n",
    "# Extract the best model\n",
    "best_xgb_model = xgb_cv.best_estimator_\n",
    "\n",
    "# Fit the model on the full training set\n",
    "best_xgb_model.fit(X_train_tfidf, y_train)\n",
    "\n",
    "# Predictions and evaluations\n",
    "y_train_pred = best_xgb_model.predict(X_train_tfidf)\n",
    "y_test_pred = best_xgb_model.predict(X_test_tfidf)\n",
    "\n",
    "# Calculate accuracies\n",
    "train_accuracy = accuracy_score(y_train, y_train_pred)\n",
    "test_accuracy = accuracy_score(y_test, y_test_pred)"
   ]
  },
  {
   "cell_type": "code",
   "execution_count": null,
   "metadata": {},
   "outputs": [],
   "source": []
  }
 ],
 "metadata": {
  "colab": {
   "provenance": []
  },
  "kernelspec": {
   "display_name": "Python 3 (ipykernel)",
   "language": "python",
   "name": "python3"
  },
  "language_info": {
   "codemirror_mode": {
    "name": "ipython",
    "version": 3
   },
   "file_extension": ".py",
   "mimetype": "text/x-python",
   "name": "python",
   "nbconvert_exporter": "python",
   "pygments_lexer": "ipython3",
   "version": "3.12.4"
  }
 },
 "nbformat": 4,
 "nbformat_minor": 4
}
